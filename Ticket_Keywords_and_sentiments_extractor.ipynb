{
 "cells": [
  {
   "cell_type": "code",
   "execution_count": 6,
   "metadata": {},
   "outputs": [],
   "source": [
    "import requests\n",
    "# pprint is used to format the JSON response\n",
    "from pprint import pprint\n",
    "import os\n",
    "import pandas as pd\n",
    "import numpy as np\n",
    "\n",
    "##Takes in cpf_tickets.csv and generates cpf_processed.csv\n",
    "subscription_key = \"cd0cf9855b244aa28c017742ed7a904c\"\n",
    "endpoint = \"https://cpftext.cognitiveservices.azure.com/\"\n",
    "\n",
    "sentiment_url = endpoint + \"/text/analytics/v2.1/sentiment\"\n",
    "language_api_url = endpoint + \"/text/analytics/v2.1/languages\"\n",
    "keyphrase_url = endpoint + \"/text/analytics/v2.1/keyphrases\"\n",
    "documents = {\"documents\": []}\n",
    "training_data = pd.read_csv(\"cpf_tickets.csv\")\n",
    "\n",
    "#Request for keywords from azure and append\n",
    "for index, row in training_data.iterrows():\n",
    "    newobj = {\"id\": index, \"language\": \"en\",\n",
    "        \"text\": row['body']}\n",
    "    documents[\"documents\"].append(newobj)\n",
    "\n",
    "headers = {\"Ocp-Apim-Subscription-Key\": subscription_key}\n",
    "response = requests.post(keyphrase_url, headers=headers, json=documents)\n",
    "key_phrases = response.json()\n",
    "\n",
    "keywords = []\n",
    "for i in range(len(response.json()['documents'])):\n",
    "    s = \"\"\n",
    "    for j in range(len(response.json()['documents'][i]['keyPhrases'])):\n",
    "        s = s + \" \" + response.json()['documents'][i]['keyPhrases'][j]\n",
    "    if s == \"\":\n",
    "        s = \"NoKeywordsFound\"\n",
    "    keywords.append(s)\n",
    "training_data['keywords'] = keywords\n",
    "\n",
    "#Request for sentiment from azure and append\n",
    "response = requests.post(sentiment_url, headers=headers, json=documents)\n",
    "sentiments_response = response.json()\n",
    "\n",
    "sentiments = []\n",
    "for i in range(len(response.json()['documents'])):\n",
    "    sentiments.append(response.json()['documents'][i]['score'])\n",
    "training_data['sentiments'] = sentiments\n",
    "training_data.to_csv(\"cpf_processed.csv\")"
   ]
  },
  {
   "cell_type": "code",
   "execution_count": null,
   "metadata": {},
   "outputs": [],
   "source": []
  },
  {
   "cell_type": "code",
   "execution_count": null,
   "metadata": {},
   "outputs": [],
   "source": []
  },
  {
   "cell_type": "code",
   "execution_count": null,
   "metadata": {},
   "outputs": [],
   "source": []
  },
  {
   "cell_type": "code",
   "execution_count": null,
   "metadata": {},
   "outputs": [],
   "source": []
  },
  {
   "cell_type": "code",
   "execution_count": null,
   "metadata": {},
   "outputs": [],
   "source": []
  }
 ],
 "metadata": {
  "kernelspec": {
   "display_name": "Python 3",
   "language": "python",
   "name": "python3"
  },
  "language_info": {
   "codemirror_mode": {
    "name": "ipython",
    "version": 3
   },
   "file_extension": ".py",
   "mimetype": "text/x-python",
   "name": "python",
   "nbconvert_exporter": "python",
   "pygments_lexer": "ipython3",
   "version": "3.7.4"
  }
 },
 "nbformat": 4,
 "nbformat_minor": 2
}
